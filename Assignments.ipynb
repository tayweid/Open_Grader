{
 "cells": [
  {
   "cell_type": "code",
   "execution_count": 1,
   "id": "649ff322-53aa-4878-abfb-5fa835bc1883",
   "metadata": {
    "jupyter": {
     "source_hidden": true
    },
    "tags": []
   },
   "outputs": [
    {
     "name": "stdout",
     "output_type": "stream",
     "text": [
      "Econ_101 is loaded from Econ_101_2023_Spring/Econ_101_2023_Spring_Roster.\n"
     ]
    },
    {
     "data": {
      "application/vnd.jupyter.widget-view+json": {
       "model_id": "d0b31b68e735448abbc2b39f71350c71",
       "version_major": 2,
       "version_minor": 0
      },
      "text/plain": [
       "HBox(children=(Output(), VBox(children=(Dropdown(options=(('MiniExam_A', 'MiniExam_A'), ('MiniExam_B', 'MiniEx…"
      ]
     },
     "metadata": {},
     "output_type": "display_data"
    }
   ],
   "source": [
    "from Assignments import *\n",
    "\n",
    "econ = COURSE('Econ_101').Load()\n",
    "#econ.Make_Roster()\n",
    "#econ.Assign('MiniExam_A')\n",
    "#econ.Save()\n",
    "econ.Grade()"
   ]
  },
  {
   "cell_type": "code",
   "execution_count": 8,
   "id": "204f21ae-a3ab-4b51-ace3-717390f44dcd",
   "metadata": {},
   "outputs": [
    {
     "name": "stdout",
     "output_type": "stream",
     "text": [
      "Econ_101 is saved to 2023_Spring.\n"
     ]
    }
   ],
   "source": [
    "from Assignments import *\n",
    "\n",
    "#econ = COURSE('Econ_101').Load()\n",
    "#econ.Assign('MiniExam_D1')\n",
    "#econ.Remove('Homework_B')\n",
    "#econ.Rename('Homework_C', 'Homework C')\n",
    "#econ.Collect('MiniExam_D1')\n",
    "#econ.Drop_Student(' Kylie Lambert')\n",
    "#econ.Add_Student('William Daniel')\n",
    "econ.Return('MiniExam_D1')\n",
    "econ.Save()\n"
   ]
  },
  {
   "cell_type": "code",
   "execution_count": 16,
   "id": "9a9a1962-5d76-4c64-826d-174d1bc1919b",
   "metadata": {},
   "outputs": [
    {
     "data": {
      "text/plain": [
       "87.53030303030303"
      ]
     },
     "execution_count": 16,
     "metadata": {},
     "output_type": "execute_result"
    }
   ],
   "source": [
    "np.mean([s.work['MiniExam_C'][0] for s in econ.students.values()])"
   ]
  },
  {
   "cell_type": "code",
   "execution_count": 47,
   "id": "7592dd65-f2be-4e82-a8ff-6b5adfd0e310",
   "metadata": {
    "tags": []
   },
   "outputs": [],
   "source": [
    "B_rewrite = [\n",
    "    \"-25:: Q1. Blank\",\n",
    "    \"-8:: Q1. The approach needs some work, ($80,200)\",\n",
    "    \"-3:: Q1. Good approach with some math errors, ($80,200)\",\n",
    "    \"-5:: Q1. Welfare is incorrect/incomplete\",\n",
    "\n",
    "    \"-20:: Q2. Blank\",\n",
    "    \"-9:: Q2. Incorrect shift\",\n",
    "    \"-7:: Q2. Incorrect shift but the description follows\",\n",
    "    \"-4:: Q2. Correct shift but some conclusions are missing\",\n",
    "    \"-2:: Q2. Correct with some small issues\",\n",
    "\n",
    "    \"-20:: Q3. Blank\",\n",
    "    \"-9:: Q3. Incorrect shift\",\n",
    "    \"-7:: Q3. Incorrect shift but the description follows\",\n",
    "    \"-4:: Q3. Correct shift but some conclusions are incomplete/incorrect\",\n",
    "    \"-2:: Q3. Correct with some small issues\",\n",
    "\n",
    "    \"-35:: Q4. Blank\",\n",
    "    \"-5:: Q4. The policy should be a price ceiling\",\n",
    "    \"-3:: Q4. There should be a shortage after the policy\",\n",
    "    \"-4:: Q4. The DWL isn't graphed correctly\",\n",
    "    \"-1:: Q4. Some math errors in calculating DWL\",\n",
    "    \"-3:: Q4. The surplus transfer isn't graphed correctly\",\n",
    "    \"-1:: Q4. Some math errors in calculating the surplus transfer\",\n",
    "    \"-4:: Q4. Good setup but missing/incomplete discussion\",\n",
    "]\n",
    "B_base = [\n",
    "    \"-25:: Q1. Blank\",\n",
    "    \"-8:: Q1. The approach needs some work, ($80,200)\",\n",
    "    \"-3:: Q1. Good approach with some math errors, ($80,200)\",\n",
    "    \"-5:: Q1. Welfare is incorrect/incomplete\",\n",
    "\n",
    "    \"-20:: Q2. Blank\",\n",
    "    \"-7:: Q2. Incorrect shift\",\n",
    "    \"-4:: Q2. Incorrect shift but the description follows\",\n",
    "    \"-2:: Q2. Correct shift but some conclusions are missing\",\n",
    "    \"-1:: Q2. Correct with some small issues\",\n",
    "\n",
    "    \"-20:: Q3. Blank\",\n",
    "    \"-7:: Q3. Incorrect shift\",\n",
    "    \"-4:: Q3. Incorrect shift but the description follows\",\n",
    "    \"-2:: Q3. Correct shift but some conclusions are incomplete/incorrect\",\n",
    "    \"-1:: Q3. Correct with some small issues\",\n",
    "\n",
    "    \"-35:: Q4. Blank\",\n",
    "    \"-4:: Q4. The policy should be a price ceiling\",\n",
    "    \"-2:: Q4. There should be a shortage after the policy\",\n",
    "    \"-3:: Q4. The DWL isn't graphed correctly\",\n",
    "    \"-1:: Q4. Some math errors in calculating DWL\",\n",
    "    \"-2:: Q4. The surplus transfer isn't graphed correctly\",\n",
    "    \"-1:: Q4. Some math errors in calculating the surplus transfer\",\n",
    "    \"-3:: Q4. Good setup but missing/incomplete discussion\",\n",
    "]\n",
    "B_remap = dict(zip(B_base, B_rewrite))"
   ]
  },
  {
   "cell_type": "code",
   "execution_count": 48,
   "id": "d47be5e2-e92e-4882-acf7-b086092b93f4",
   "metadata": {},
   "outputs": [],
   "source": [
    "if False:\n",
    "    for name, student in econ.students.items():\n",
    "        meb_rub = student.work['MiniExam_B'][1]\n",
    "        #print(meb_rub)\n",
    "        new = []\n",
    "        for i in meb_rub:\n",
    "            if i in B_remap:\n",
    "                new.append(B_remap[i])\n",
    "            else:\n",
    "                new.append(i)\n",
    "        student.work['MiniExam_B'][1] = new"
   ]
  },
  {
   "cell_type": "code",
   "execution_count": 53,
   "id": "1f98c51b-3db6-4931-b20c-762f93452b77",
   "metadata": {},
   "outputs": [],
   "source": [
    "if False:\n",
    "    for name, student in econ.students.items():\n",
    "        meb_rub = student.work['MiniExam_B'][1]\n",
    "        #print(meb_rub)\n",
    "        #print(student.work['MiniExam_B'][0])\n",
    "        student.work['MiniExam_B'][0] = 100 + sum([int(i.split('::')[0]) for i in student.work['MiniExam_B'][1]])\n",
    "        #print(student.work['MiniExam_B'][0])"
   ]
  }
 ],
 "metadata": {
  "kernelspec": {
   "display_name": "Python 3",
   "language": "python",
   "name": "python3"
  },
  "language_info": {
   "codemirror_mode": {
    "name": "ipython",
    "version": 3
   },
   "file_extension": ".py",
   "mimetype": "text/x-python",
   "name": "python",
   "nbconvert_exporter": "python",
   "pygments_lexer": "ipython3",
   "version": "3.9.12"
  }
 },
 "nbformat": 4,
 "nbformat_minor": 5
}
